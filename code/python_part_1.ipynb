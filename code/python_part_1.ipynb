{
 "cells": [
  {
   "cell_type": "markdown",
   "metadata": {
    "id": "PGYgi5UrvRYJ"
   },
   "source": [
    "# Library Carpentry: Tools for Humanists\n",
    "\n",
    "## Python Lesson\n",
    "\n",
    "### Part 1: Learning to Read Code"
   ]
  },
  {
   "cell_type": "markdown",
   "metadata": {
    "id": "V6l09Y2WvRYK"
   },
   "source": [
    "This series of lessons introduces the Python programming language as a tool for working with text as data. Pedagogically, it is modeled on the [Library Carpentry](https://librarycarpentry.org/) curriculum, with additional inspiration from the following sources:\n",
    " - Melanie Walsh's [Introduction to Cultural Analytics & Python](https://librarycarpentry.org/)\n",
    " - Mark Guzdial's work on [learner-centered design](http://www.morganclaypool.com/doi/10.2200/S00684ED1V01Y201511HCI033) in computing education\n",
    " \n",
    "In this first part, you'll get acquainted with the basic elements of programming and start to get a feel for the syntax of Python. Together we will write some code to perform a few small tasks -- nothing that you probably couldn't do with other tools at your disposal. But we'll intentionally be going slow, asking you to think about what's happening at every step. This work -- for those humanists out there, think of it as a kind of close reading -- will help you develop your conceptual model of Python (and of programming languages more generally)."
   ]
  },
  {
   "cell_type": "markdown",
   "metadata": {
    "id": "ee02POMivRYM"
   },
   "source": [
    "#### Objectives\n",
    " - Explore the Python interpreter via a Jupyter notebook\n",
    " - Create variables to hold different types of data\n",
    " - Read data in from a file\n",
    " - Transform data from one type to another\n",
    " - Work with conditionals and iterative structures to process data efficiently\n",
    " - Store output in a persistent and portable format"
   ]
  },
  {
   "cell_type": "markdown",
   "metadata": {
    "id": "ZLkWF-IBvRYN"
   },
   "source": [
    "#### 1. What is runnable in Python?\n",
    " - Code cells vs. markdown cells\n",
    " - Parts of a notebook:\n",
    "   - Browser interface\n",
    "   - Python kernel\n",
    "\n",
    "##### Exercise 1.1\n",
    "\n",
    "Execute the following code cells and note how Python responds. Discuss with your neighbor: what kinds of input are valid for Python? What do you notice about the output you receive?"
   ]
  },
  {
   "cell_type": "code",
   "execution_count": null,
   "metadata": {
    "id": "ofNrCxR6vRYN"
   },
   "outputs": [],
   "source": [
    "\"Hello world\""
   ]
  },
  {
   "cell_type": "code",
   "execution_count": null,
   "metadata": {
    "id": "oJL1q12yvRYO"
   },
   "outputs": [],
   "source": [
    "9 + 3"
   ]
  },
  {
   "cell_type": "code",
   "execution_count": null,
   "metadata": {
    "id": "parhF3_6vRYP"
   },
   "outputs": [],
   "source": [
    "\"9 + 3\""
   ]
  },
  {
   "cell_type": "code",
   "execution_count": null,
   "metadata": {
    "id": "dLRju2yZvRYP"
   },
   "outputs": [],
   "source": [
    "Hello world"
   ]
  },
  {
   "cell_type": "code",
   "execution_count": null,
   "metadata": {
    "id": "WMHh_E9UvRYP"
   },
   "outputs": [],
   "source": [
    "Hello"
   ]
  },
  {
   "cell_type": "code",
   "execution_count": null,
   "metadata": {
    "id": "MvXFp3MSvRYQ"
   },
   "outputs": [],
   "source": [
    "file_name = 'newton_opticks.txt'"
   ]
  },
  {
   "cell_type": "code",
   "execution_count": null,
   "metadata": {
    "id": "29bnoY52vRYR"
   },
   "outputs": [],
   "source": [
    "print(file_name)"
   ]
  },
  {
   "cell_type": "markdown",
   "metadata": {
    "id": "sOfqPQ7_vRYR"
   },
   "source": [
    "##### Notes\n",
    " - Any characters enclosed in single or double quotes constitute a string.\n",
    " - Numerical values outside of quotes are evaluated as numerical.\n",
    " - Sequences of other characters outside of quotes are _names_.\n",
    " - Names must a) be defined and b) follow certain syntatical rules.\n",
    " - Whitespace cannot be part of a name. (By convention, spaces in names are represented by underscores, e.g., `hello_world` instead of `hello world`.)\n",
    " - _Functions_ are names that operate on other names, numbers, strings, and other Python data types.\n",
    " - Some operations (like `print`) produce output. Others (like assignment with the `=`) do not.\n",
    " - Invalid operations produce error messages."
   ]
  },
  {
   "cell_type": "markdown",
   "metadata": {
    "id": "loi8bTO6vRYS"
   },
   "source": [
    "#### 2. Working with data in Python\n",
    "\n",
    " - Reading a text file into Python\n",
    " - Using Python objects & methods\n",
    " - Exploring Python types\n",
    " - Working with strings"
   ]
  },
  {
   "cell_type": "markdown",
   "metadata": {
    "id": "hkm8Ig-11OFz"
   },
   "source": [
    "In order to work with a file in Python, it needs to be available to the Python interpreter. Since we're using Python in the cloud, our first step is to put a file into local environment. \n",
    "\n",
    "It's possible to upload files into Google Colab, but in this case, it's easier just to fetch the file from the web.\n",
    "\n",
    "The following command uses the Unix `wget` command to retrieve a text file from our workshop website. The exclamation point at the beginning of the command is important: this is NOT a Python command, but a command we're issuing to the underlying operating system.\n",
    "\n",
    "You can copy the URL from the Etherpad, under the `Links` section. Make sure you're using the URL for `Newton's Opticks`.\n"
   ]
  },
  {
   "cell_type": "code",
   "execution_count": null,
   "metadata": {
    "id": "VdUo_qOz23hp"
   },
   "outputs": [],
   "source": [
    "!wget https://raw.githubusercontent.com/gwu-libraries/2022-07-14-gwu/gh-pages/files/newton_opticks.txt"
   ]
  },
  {
   "cell_type": "markdown",
   "metadata": {
    "id": "XrmNvcGmvRYS"
   },
   "source": [
    "We downloaded the file to our local environment; now we have to make it available to the Python interpreter.\n",
    "\n",
    "Here we use Python's `open` function to work with an external text file. The file is stored in the same directory as our notebook. (If the file was located elsewhere, we would need to specify a path to it.)\n"
   ]
  },
  {
   "cell_type": "code",
   "execution_count": null,
   "metadata": {
    "id": "FeWcn2kCvRYS"
   },
   "outputs": [],
   "source": [
    "f = open(file_name)"
   ]
  },
  {
   "cell_type": "markdown",
   "metadata": {
    "id": "HUty2nNUvRYS"
   },
   "source": [
    "The assignment creates a variable named `f` and associates it with the output of the `open` function. We supply that function with another variable, which we created above, that is associated with the name of a text file. What does the name `f` refer to now? "
   ]
  },
  {
   "cell_type": "code",
   "execution_count": null,
   "metadata": {
    "id": "C3-VamG9vRYT"
   },
   "outputs": [],
   "source": [
    "f"
   ]
  },
  {
   "cell_type": "markdown",
   "metadata": {
    "id": "cp2U7rAOvRYT"
   },
   "source": [
    "Every name in Python is associated with what's called an _object_. Some objects are simple values, like strings and numbers. Other objects are functions, like `open` and `print`. Still other objects are more complex. But you don't need to have a firm grasp of what _objects are_; what's important is knowing _how to use them_."
   ]
  },
  {
   "cell_type": "markdown",
   "metadata": {
    "id": "R1PBAO0ivRYU"
   },
   "source": [
    "The object associated with `f` has a _method_ called `read`. A method is a special kind of function that \"belongs\" to another object. We can access it by writing _name of the object DOT name of the function_.  "
   ]
  },
  {
   "cell_type": "code",
   "execution_count": null,
   "metadata": {
    "id": "D33semUlvRYU"
   },
   "outputs": [],
   "source": [
    "f.read"
   ]
  },
  {
   "cell_type": "markdown",
   "metadata": {
    "id": "EF_rCmDYvRYU"
   },
   "source": [
    "But to use a method or function, as opposed to just exposing its underlying object, we need to use _parentheses_. We used the `print` and `open` functions with _arguments_: names or values between the parens that represent objects the function should operate on, or that determine how the function behaves.\n",
    "\n",
    "Some functions and methods don't accept or don't require arguments. In these cases, we invoke them with empty parens."
   ]
  },
  {
   "cell_type": "code",
   "execution_count": null,
   "metadata": {
    "id": "9sArZx8vvRYU"
   },
   "outputs": [],
   "source": [
    "f.read()"
   ]
  },
  {
   "cell_type": "markdown",
   "metadata": {
    "id": "gvmiUiVLvRYV"
   },
   "source": [
    "##### Exercise 1.2\n",
    "\n",
    "Take a few minutes with a neighor to look at the output of `f.read()`. What does this data represent? And what do you notice about how it appears as Python output?"
   ]
  },
  {
   "cell_type": "markdown",
   "metadata": {
    "id": "OgTvLGdWvRYV"
   },
   "source": [
    "##### Notes\n",
    " - text file of Newton's _Opticks_\n",
    " - special characters: `\\n`, `\\ufeff`\n",
    " - treated by Python as a single string"
   ]
  },
  {
   "cell_type": "markdown",
   "metadata": {
    "id": "PlUtMdvKvRYV"
   },
   "source": [
    "Usually, we're working with _sequences_ of Python statements to accomplish a specific task. A complete sequence for reading a text file looks like this. Here we open the file, assign the contents to a new variable, and close the file."
   ]
  },
  {
   "cell_type": "code",
   "execution_count": null,
   "metadata": {
    "id": "fR777dhIvRYV"
   },
   "outputs": [],
   "source": [
    "f = open('newton_opticks.txt')\n",
    "text = f.read()\n",
    "f.close()"
   ]
  },
  {
   "cell_type": "markdown",
   "metadata": {
    "id": "qd85NvoWvRYW"
   },
   "source": [
    "The name `text` allows us to refer to our data at a persistent (persisting for the duration of this Python session) location in memory.  "
   ]
  },
  {
   "cell_type": "markdown",
   "metadata": {
    "id": "FsOcIMDBvRYW"
   },
   "source": [
    "We can examine the _type_ that Python has assigned to our data."
   ]
  },
  {
   "cell_type": "code",
   "execution_count": null,
   "metadata": {
    "id": "LYoA83LovRYW"
   },
   "outputs": [],
   "source": [
    "type(text)"
   ]
  },
  {
   "cell_type": "markdown",
   "metadata": {
    "id": "yMKU14gqvRYW"
   },
   "source": [
    "Every object in Python has a type. A type delimits the kinds of operations the object can participate in. (Similar to how, in English, a noun can be the subject of a sentence, and an adjective can modify a noun.)"
   ]
  },
  {
   "cell_type": "markdown",
   "metadata": {
    "id": "tzqmrlpvvRYW"
   },
   "source": [
    "One operation available with strings is to evaluate the character in a given position."
   ]
  },
  {
   "cell_type": "code",
   "execution_count": null,
   "metadata": {
    "id": "BPmo5ZK5vRYW"
   },
   "outputs": [],
   "source": [
    "text[0]"
   ]
  },
  {
   "cell_type": "markdown",
   "metadata": {
    "id": "6_yWASkVvRYY"
   },
   "source": [
    "##### Exercise 1.3\n",
    "\n",
    "Evaluate the characters at various position in our `text` string. What do you notice?\n",
    "\n",
    "##### Notes\n",
    " - Some \"characters\" represented by more than one literal character on screen (Unicode)\n",
    " - Escaped characters (`\\n`) count as single characters, too\n",
    " - First character position at 0"
   ]
  },
  {
   "cell_type": "markdown",
   "metadata": {
    "id": "MoDrWgT7vRYY"
   },
   "source": [
    "##### Exercise 1.4\n",
    "\n",
    "Run the following lines of code and discuss with your neighbor. What do these operations do?"
   ]
  },
  {
   "cell_type": "code",
   "execution_count": null,
   "metadata": {
    "id": "U5EuMsp5vRYY"
   },
   "outputs": [],
   "source": [
    "text[:100]"
   ]
  },
  {
   "cell_type": "code",
   "execution_count": null,
   "metadata": {
    "id": "hQjIV464vRYY"
   },
   "outputs": [],
   "source": [
    "len(text)"
   ]
  },
  {
   "cell_type": "code",
   "execution_count": null,
   "metadata": {
    "id": "de2EPhumvRYZ"
   },
   "outputs": [],
   "source": [
    "text.split()"
   ]
  },
  {
   "cell_type": "markdown",
   "metadata": {
    "id": "2xi83r0XvRYZ"
   },
   "source": [
    "##### Notes\n",
    " - Slice vs. single index\n",
    " - `len()` function gives the length in _characters_\n",
    " - `split()` separates a string on _white space_"
   ]
  },
  {
   "cell_type": "markdown",
   "metadata": {
    "id": "o2o6SKEfvRYZ"
   },
   "source": [
    "We can invoke `split` on `text` because Python strings are objects with special methods of their own. But `split` is an example of a method that transforms one Python type into another. What's the type of the output of `split`?"
   ]
  },
  {
   "cell_type": "code",
   "execution_count": null,
   "metadata": {
    "id": "CqpMaPs9vRYZ"
   },
   "outputs": [],
   "source": [
    "words = text.split()\n",
    "type(words)"
   ]
  },
  {
   "cell_type": "markdown",
   "metadata": {
    "id": "pconjit3vRYa"
   },
   "source": [
    "##### Exercise 1.5\n",
    "\n",
    "Repeat the above operations from `text` with our `words` variable. How do lists behave differently from strings?"
   ]
  },
  {
   "cell_type": "code",
   "execution_count": null,
   "metadata": {
    "id": "WYdrOLYFvRYa"
   },
   "outputs": [],
   "source": [
    "words[0]"
   ]
  },
  {
   "cell_type": "code",
   "execution_count": null,
   "metadata": {
    "id": "61mOcQTzvRYa",
    "scrolled": true
   },
   "outputs": [],
   "source": [
    "words[:100]"
   ]
  },
  {
   "cell_type": "code",
   "execution_count": null,
   "metadata": {
    "id": "2ciEwjaBvRYa"
   },
   "outputs": [],
   "source": [
    "len(words)"
   ]
  },
  {
   "cell_type": "code",
   "execution_count": null,
   "metadata": {
    "id": "0hxPxujKvRYb"
   },
   "outputs": [],
   "source": [
    "words.split()"
   ]
  },
  {
   "cell_type": "markdown",
   "metadata": {
    "id": "Z6QK7x15vRYb"
   },
   "source": [
    "##### Notes\n",
    " - Lists are ordered collections and can contain _any_ Python types, not just strings\n",
    " - Indexing/slicing refers to elements in the list\n",
    " - Elements here are multi-character strings\n",
    " - Lists lack the `split` method"
   ]
  },
  {
   "cell_type": "markdown",
   "metadata": {
    "id": "zx7n9oZpvRYb"
   },
   "source": [
    "#### 3. Test, repeat, test, repeat\n",
    "How many times does the word \"light\" appear in Newton's _Opticks_? \n",
    "\n",
    "Let's make a logical plan:\n",
    "1. Assume our `words` list is a good-enough representation of the words in the text\n",
    "2. Evaluate each word in our list: is it \"light\"?\n",
    "   - If so, increase the count by one\n",
    "3. Print the total count of instances of \"light\""
   ]
  },
  {
   "cell_type": "code",
   "execution_count": null,
   "metadata": {
    "id": "yl1wMNYevRYb"
   },
   "outputs": [],
   "source": [
    "n = 0\n",
    "for word in words:\n",
    "    if word == 'light':\n",
    "        n += 1\n",
    "print(f\"The word 'light' appears {n} times in Newton's Opticks.\")"
   ]
  },
  {
   "cell_type": "markdown",
   "metadata": {
    "id": "g6btrhcZvRYb"
   },
   "source": [
    "Line-by-line analysis:\n",
    "1. Create a new variable, initially set to 0, to keep count\n",
    "2. Start a `for` loop: the variable `word`, our \"loop variable,\" will get the value of each element in our `words` list, in order\n",
    "3. The colon at the end of the line creates a _code block_\n",
    "4. Indented lines are treated as part of the block -- they will happen _each time_ `word` receives a new value\n",
    "5. The `if` statement introduces another code block\n",
    "6. The _double equals_ (`==`) is not a variable assignment. It evaluates one object in terms of another, and returns `True` if both objects are \"the same\" \n",
    "7. The code within the `if` block (double indented) is executed _only if_ the expression in the `if` statement evaluates to `True`\n",
    "8. The `+=` operator increments a numeric variable by what's on the right side\n",
    "9. The `f'` introduces a special kind of string. What appears between the curly braces is interpreted not as part of the string but as a Python name -- in this case, our counter variable -- and the value with which it's associated is inserted into the string."
   ]
  },
  {
   "cell_type": "markdown",
   "metadata": {
    "id": "LLWrVXrKvRYb"
   },
   "source": [
    "##### Exercise: 1.6\n",
    "\n",
    "\"Truth\" in a program depends on a) the structure of the language and b) decisions made by the programmer.\n",
    "\n",
    "How does `word == 'light'` in our little program define truth? Are there situations where our test would _not_ catch instances that we might want to count as true? Are there situations where it might flag as true instances that we would want to count as false?"
   ]
  },
  {
   "cell_type": "markdown",
   "metadata": {
    "id": "2Zj82QJ9vRYb"
   },
   "source": [
    "##### Notes\n",
    " - Because we've defined a _word_ as whatever is separated by white space, our test will fail on strings like the following: `light,`, `light.`, `light).`, etc.\n",
    " - We've also defined our word as lowercase, excluding cases where the word begins a sentence."
   ]
  },
  {
   "cell_type": "markdown",
   "metadata": {
    "id": "65RxV6VBvRYd"
   },
   "source": [
    "#### 4. Improving our program\n",
    " - Using regexes in Python\n",
    " - Importing modules\n",
    " - Dealing with `None`"
   ]
  },
  {
   "cell_type": "markdown",
   "metadata": {
    "id": "2Rp8G_hkvRYd"
   },
   "source": [
    "A **module** is an external set of Python objects that you can load when you need additional functionality.\n",
    "\n",
    "Modules that form part of the basic Python installation belong to the _standard library_.\n",
    "\n",
    "Other modules can be installed as needed; we'll see how to do that later in our workshop.\n",
    "\n",
    "For now, we'll important the `re` module, which lets us use regular expressions in Python."
   ]
  },
  {
   "cell_type": "code",
   "execution_count": null,
   "metadata": {
    "id": "LJkYiEGEvRYd"
   },
   "outputs": [],
   "source": [
    "import re"
   ]
  },
  {
   "cell_type": "markdown",
   "metadata": {
    "id": "f8NxqkslvRYd"
   },
   "source": [
    "The first step is to define a regular expression. We put it between quotes in order to create a string.\n",
    "\n",
    "To keep it simple, we'll create a pattern that matches the letters `light` followed by zero or one additional, _non-alphabetic_ characters. We'll also include the `$` and `^` metacharacters at the beginning and end of the regex, to signal that this pattern should occupy the whole word. In other words, we don't want false matches on words like `lightning` or `delight`."
   ]
  },
  {
   "cell_type": "code",
   "execution_count": null,
   "metadata": {
    "id": "XUP8wqfFvRYd"
   },
   "outputs": [],
   "source": [
    "pattern = '^[lL]ight[^A-Za-z]?$'"
   ]
  },
  {
   "cell_type": "markdown",
   "metadata": {
    "id": "JPk2CJAtvRYe"
   },
   "source": [
    "Now let's test it. We can use the `re.match` method to apply a regular expression to another Python string. \n",
    "\n",
    "Unlike methods we've used up to now, `match` takes _two_ arguments: the first should be a regular expression, the second a string to be evaluated."
   ]
  },
  {
   "cell_type": "code",
   "execution_count": null,
   "metadata": {
    "id": "pQCr3aUOvRYe"
   },
   "outputs": [],
   "source": [
    "re.match(pattern, 'light')"
   ]
  },
  {
   "cell_type": "code",
   "execution_count": null,
   "metadata": {
    "id": "nHHCn9AmvRYe"
   },
   "outputs": [],
   "source": [
    "re.match(pattern, 'Light')"
   ]
  },
  {
   "cell_type": "code",
   "execution_count": null,
   "metadata": {
    "id": "HovA4jeYvRYe"
   },
   "outputs": [],
   "source": [
    "re.match(pattern, 'lightning')"
   ]
  },
  {
   "cell_type": "code",
   "execution_count": null,
   "metadata": {
    "id": "26JwpxF7vRYe"
   },
   "outputs": [],
   "source": [
    "re.match(pattern, 'delight')"
   ]
  },
  {
   "cell_type": "markdown",
   "metadata": {
    "id": "C3KhKOntvRYe"
   },
   "source": [
    "Notice how the behavior of the function differs when it finds a match and when it doesn't.\n",
    "\n",
    "Every function in Python has a _return_ value. A function can return any type of value; if it doesn't explicitly return a value, by default it returns a special _null_ value called `None`. "
   ]
  },
  {
   "cell_type": "code",
   "execution_count": null,
   "metadata": {
    "id": "zS8ahUCVvRYe"
   },
   "outputs": [],
   "source": [
    "type(re.match(pattern, 'light?'))"
   ]
  },
  {
   "cell_type": "code",
   "execution_count": null,
   "metadata": {
    "id": "dmKPV8xRvRYe"
   },
   "outputs": [],
   "source": [
    "type(re.match(pattern, 'lightly'))"
   ]
  },
  {
   "cell_type": "markdown",
   "metadata": {
    "id": "hvknfesTvRYg"
   },
   "source": [
    "In an `if` statement, we can evalute the return value of a function; if the function returns `None`, this will be treated as `False`. "
   ]
  },
  {
   "cell_type": "markdown",
   "metadata": {
    "id": "2Pvsbi28vRYg"
   },
   "source": [
    "##### Exercise 1.7\n",
    "\n",
    "Can you modify the previous `for` loop to use the regular expression to check for the presence of the word `light` in Newton's text?\n",
    "\n",
    "Arrange the lines from the left in the window on the right in the correct order and indentation to solve the exercise. Note that not all lines of code are necessary to the solution.\n",
    "\n",
    "http://parsons.problemsolving.io/puzzle/53cbfc9d50364664897a3cffc914c0a6"
   ]
  },
  {
   "cell_type": "markdown",
   "metadata": {
    "id": "xtFP4WJEvRYg"
   },
   "source": [
    "##### Answer\n",
    "```\n",
    "n = 0\n",
    "for word in words:\n",
    "    if re.match(pattern, word):\n",
    "        n += 1\n",
    "print(f'The word \"light\" appears in Newton\\'s Opicks {n} times.')\n",
    "```"
   ]
  },
  {
   "cell_type": "code",
   "execution_count": null,
   "metadata": {
    "id": "5nNElhxGvRYg"
   },
   "outputs": [],
   "source": [
    "n = 0\n",
    "for word in words:\n",
    "    if re.match(pattern, word):\n",
    "        n += 1\n",
    "print(f'The word \"light\" appears in Newton\\'s Opicks {n} times.')"
   ]
  },
  {
   "cell_type": "markdown",
   "metadata": {
    "id": "d1k9k66cvRYg"
   },
   "source": [
    "#### 5. More word counts\n",
    "To find the frequency of a single term in a document, we could use `Ctrl-F` in a word processor or text editor.\n",
    "\n",
    "But what about a table showing the frequency of occurence of _every word_ in the document? Word frequencies are the basis of many methods of quantitative text analysis, including topic modeling. While Python libraries exist that can automatically compute these for us, we'll walk through a basic version of code to accomplish this.\n",
    "\n",
    "##### Exercise 1.8\n",
    "\n",
    "Working with a neighbor, develop a logical plan for this task, using the `words` list we created above. \n",
    "\n",
    "##### Notes\n",
    " - A collection mapping each word (string) to its frequency (number)\n",
    " - Loop through the list of words\n",
    " - Whenever we encounter a new word, add it to the collection and set the count to 1\n",
    " - If we've seen the word before, increment the count "
   ]
  },
  {
   "cell_type": "markdown",
   "metadata": {
    "id": "BT-8V_8mvRYh"
   },
   "source": [
    "##### Collections: Lists v. Dictionaries\n",
    " - A collection consists of a container and the elements contained in it\n",
    " - Lists: \n",
    "   - container = square brackets\n",
    "   - elements = any Python objects, separated by commas\n",
    "   - elements accessed by position\n",
    " - Dictionaries: \n",
    "   - container = curly braces\n",
    "   - elements = pairs of Python objects\n",
    "     - First element (key): a string, number, and certain kinds of other objects\n",
    "     - Second element (value): any Python object\n",
    "     - Multiple elements are separated by commas\n",
    "   - elements accessed by key\n"
   ]
  },
  {
   "cell_type": "markdown",
   "metadata": {
    "id": "lioUUAkivRYh"
   },
   "source": [
    "Here are two ways to create a dictionary with two key-value pairs."
   ]
  },
  {
   "cell_type": "code",
   "execution_count": null,
   "metadata": {
    "id": "2jSdEfeDvRYh"
   },
   "outputs": [],
   "source": [
    "word_counts = {'telescope': 4, 'light': 3}"
   ]
  },
  {
   "cell_type": "code",
   "execution_count": null,
   "metadata": {
    "id": "kJ4cYK3QvRYh"
   },
   "outputs": [],
   "source": [
    "word_counts = {}\n",
    "word_counts['telescope'] = 4\n",
    "word_counts['light'] = 3"
   ]
  },
  {
   "cell_type": "markdown",
   "metadata": {
    "id": "5Dau2PoFvRYh"
   },
   "source": [
    "These ways of creating the dictionary are equivalent. To access the value associated with the key `light`, we write this:"
   ]
  },
  {
   "cell_type": "code",
   "execution_count": null,
   "metadata": {
    "id": "ZrEvJ0qzvRYh"
   },
   "outputs": [],
   "source": [
    "word_counts['light']"
   ]
  },
  {
   "cell_type": "code",
   "execution_count": null,
   "metadata": {
    "id": "AG84XXrsvRYh"
   },
   "outputs": [],
   "source": [
    "word_counts"
   ]
  },
  {
   "cell_type": "markdown",
   "metadata": {
    "id": "o1h5Rq23vRYi"
   },
   "source": [
    "Like lists, dictionaries can be looped over using `for`. To loop over the key-value pairs, we can use the special method `items`, which returns both key and value."
   ]
  },
  {
   "cell_type": "code",
   "execution_count": null,
   "metadata": {
    "id": "Cl88A6EVvRYi"
   },
   "outputs": [],
   "source": [
    "for word, count in word_counts.items():\n",
    "    print(f'Key is {word}')\n",
    "    print(f'Value is {count}')"
   ]
  },
  {
   "cell_type": "markdown",
   "metadata": {
    "id": "zy_70JkZvRYi"
   },
   "source": [
    "We can also check for the presence of a key (but not a value) in a dictionary by using the `in` keyword in a conditional statement."
   ]
  },
  {
   "cell_type": "code",
   "execution_count": null,
   "metadata": {
    "id": "ccyRtym_vRYi"
   },
   "outputs": [],
   "source": [
    "if 'light' in word_counts:\n",
    "    print('Key is present')"
   ]
  },
  {
   "cell_type": "markdown",
   "metadata": {
    "id": "IiRXLBaKvRYi"
   },
   "source": [
    "##### Exercise 1.9\n",
    "\n",
    "Let's try to put together loops, conditionals, dictionaries, and lists in order to create a dictionary of word frequencies in Newton's _Opticks_. \n",
    "\n",
    "See if you can put the lines of code in the correct order: http://parsons.problemsolving.io/puzzle/e6751f6b5b8941e9b72c3a7128a33124"
   ]
  },
  {
   "cell_type": "code",
   "execution_count": null,
   "metadata": {
    "id": "ZMObWIiHvRYi"
   },
   "outputs": [],
   "source": [
    "word_counts = {}\n",
    "for word in words:\n",
    "    if word in word_counts:\n",
    "        word_counts[word] += 1\n",
    "    else:\n",
    "        word_counts[word] = 1\n",
    "for word, count in word_counts.items():\n",
    "    print(f'{word} -- {count}')"
   ]
  },
  {
   "cell_type": "markdown",
   "metadata": {
    "id": "mVPtj4JTvRYj"
   },
   "source": [
    "##### Notes\n",
    " - 2 `for` loops: \n",
    "   - to build the dictionary of word counts\n",
    "   - to print the keys/values in the completed dictionary\n",
    " - Need to create a key and assign it a value before you can increment the value\n",
    " - `if`/`else` for branching conditionals"
   ]
  },
  {
   "cell_type": "markdown",
   "metadata": {
    "id": "k_tj1qTHvRYj"
   },
   "source": [
    "#### 6. Saving our work\n",
    "Our final step in this lesson is to save our dictionary of word counts to disk. We'll use _comma-separated value_ (CSV) format, which is very portable and will create a human-readable table of results."
   ]
  },
  {
   "cell_type": "markdown",
   "metadata": {
    "id": "2GS6S7rivRYj"
   },
   "source": [
    " - module handles details of CSV format, including separators (commas by default), quoting text that contains the separator, etc.\n",
    " - import the CSV module\n",
    " - define our header row: each row will be a Python list\n",
    " - the `with open()` syntax allows us to open a file without having to remember to close it (best practice)\n",
    " - the `'w'` argument to `open` signals that we want to write to this file\n",
    " - create a `writer` object from the `csv` module\n",
    " - use the `writerow` method first to create the header row (we do this once, outside the loop)\n",
    " - loop over the _items_ in our dictionary\n",
    " - create a list, using the loop variables\n",
    " - call the `writerow` method within the loop to create one row per word count"
   ]
  },
  {
   "cell_type": "code",
   "execution_count": null,
   "metadata": {
    "id": "_KnqR01AvRYj"
   },
   "outputs": [],
   "source": [
    "import csv"
   ]
  },
  {
   "cell_type": "code",
   "execution_count": null,
   "metadata": {
    "id": "MOG10bXAvRYk"
   },
   "outputs": [],
   "source": [
    "header_row = ['word', 'count']"
   ]
  },
  {
   "cell_type": "code",
   "execution_count": null,
   "metadata": {
    "id": "7DCNVzEPvRYk"
   },
   "outputs": [],
   "source": [
    "with open('newton-opticks-wordcount.csv', 'w') as f:\n",
    "    writer = csv.writer(f)\n",
    "    writer.writerow(header_row)\n",
    "    for word, count in word_counts.items():\n",
    "        row = [word, count]\n",
    "        writer.writerow(row)"
   ]
  },
  {
   "cell_type": "markdown",
   "metadata": {
    "id": "41ZeBenZ5Y3R"
   },
   "source": [
    "To download this file, open the `Files` panel on the left-hand side of your notebook window by clicking the folder icon. Locate your CSV file, click the three dots beside the file name, and select `Download`."
   ]
  }
 ],
 "metadata": {
  "colab": {
   "collapsed_sections": [],
   "name": "python_part_1.ipynb",
   "provenance": []
  },
  "kernelspec": {
   "display_name": "Python 3",
   "language": "python",
   "name": "python3"
  },
  "language_info": {
   "codemirror_mode": {
    "name": "ipython",
    "version": 3
   },
   "file_extension": ".py",
   "mimetype": "text/x-python",
   "name": "python",
   "nbconvert_exporter": "python",
   "pygments_lexer": "ipython3",
   "version": "3.8.5"
  }
 },
 "nbformat": 4,
 "nbformat_minor": 1
}
